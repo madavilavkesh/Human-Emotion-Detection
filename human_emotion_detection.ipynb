{
 "cells": [
  {
   "cell_type": "markdown",
   "id": "733a48c5",
   "metadata": {},
   "source": [
    "### Import required libraries"
   ]
  },
  {
   "cell_type": "code",
   "execution_count": 4,
   "id": "95a7deae",
   "metadata": {},
   "outputs": [
    {
     "name": "stdout",
     "output_type": "stream",
     "text": [
      "Looking in indexes: https://pypi.org/simple, https://pypi.ngc.nvidia.com\n",
      "Requirement already satisfied: gradio in c:\\users\\imluc\\anaconda3\\lib\\site-packages (from -r requirements.txt (line 1)) (5.24.0)\n",
      "Requirement already satisfied: tensorflow in c:\\users\\imluc\\anaconda3\\lib\\site-packages (from -r requirements.txt (line 2)) (2.17.1)\n",
      "Requirement already satisfied: keras in c:\\users\\imluc\\anaconda3\\lib\\site-packages (from -r requirements.txt (line 3)) (3.4.1)\n",
      "Requirement already satisfied: opencv-python in c:\\users\\imluc\\anaconda3\\lib\\site-packages (from -r requirements.txt (line 4)) (4.11.0.86)\n",
      "Requirement already satisfied: numpy in c:\\users\\imluc\\anaconda3\\lib\\site-packages (from -r requirements.txt (line 5)) (1.26.4)\n",
      "Requirement already satisfied: pandas in c:\\users\\imluc\\anaconda3\\lib\\site-packages (from -r requirements.txt (line 6)) (2.2.2)\n",
      "Requirement already satisfied: matplotlib in c:\\users\\imluc\\anaconda3\\lib\\site-packages (from -r requirements.txt (line 7)) (3.8.4)\n",
      "Requirement already satisfied: tqdm in c:\\users\\imluc\\anaconda3\\lib\\site-packages (from -r requirements.txt (line 8)) (4.66.4)\n",
      "Requirement already satisfied: scikit-learn in c:\\users\\imluc\\anaconda3\\lib\\site-packages (from -r requirements.txt (line 9)) (1.4.2)\n",
      "Collecting keras_preprocessing (from -r requirements.txt (line 10))\n",
      "  Downloading Keras_Preprocessing-1.1.2-py2.py3-none-any.whl.metadata (1.9 kB)\n",
      "Requirement already satisfied: aiofiles<25.0,>=22.0 in c:\\users\\imluc\\anaconda3\\lib\\site-packages (from gradio->-r requirements.txt (line 1)) (24.1.0)\n",
      "Requirement already satisfied: anyio<5.0,>=3.0 in c:\\users\\imluc\\anaconda3\\lib\\site-packages (from gradio->-r requirements.txt (line 1)) (4.2.0)\n",
      "Requirement already satisfied: fastapi<1.0,>=0.115.2 in c:\\users\\imluc\\anaconda3\\lib\\site-packages (from gradio->-r requirements.txt (line 1)) (0.115.12)\n",
      "Requirement already satisfied: ffmpy in c:\\users\\imluc\\anaconda3\\lib\\site-packages (from gradio->-r requirements.txt (line 1)) (0.5.0)\n",
      "Requirement already satisfied: gradio-client==1.8.0 in c:\\users\\imluc\\anaconda3\\lib\\site-packages (from gradio->-r requirements.txt (line 1)) (1.8.0)\n",
      "Requirement already satisfied: groovy~=0.1 in c:\\users\\imluc\\anaconda3\\lib\\site-packages (from gradio->-r requirements.txt (line 1)) (0.1.2)\n",
      "Requirement already satisfied: httpx>=0.24.1 in c:\\users\\imluc\\anaconda3\\lib\\site-packages (from gradio->-r requirements.txt (line 1)) (0.28.1)\n",
      "Requirement already satisfied: huggingface-hub>=0.28.1 in c:\\users\\imluc\\anaconda3\\lib\\site-packages (from gradio->-r requirements.txt (line 1)) (0.30.2)\n",
      "Requirement already satisfied: jinja2<4.0 in c:\\users\\imluc\\anaconda3\\lib\\site-packages (from gradio->-r requirements.txt (line 1)) (3.1.4)\n",
      "Requirement already satisfied: markupsafe<4.0,>=2.0 in c:\\users\\imluc\\anaconda3\\lib\\site-packages (from gradio->-r requirements.txt (line 1)) (2.1.3)\n",
      "Requirement already satisfied: orjson~=3.0 in c:\\users\\imluc\\anaconda3\\lib\\site-packages (from gradio->-r requirements.txt (line 1)) (3.10.16)\n",
      "Requirement already satisfied: packaging in c:\\users\\imluc\\appdata\\roaming\\python\\python312\\site-packages (from gradio->-r requirements.txt (line 1)) (24.1)\n",
      "Requirement already satisfied: pillow<12.0,>=8.0 in c:\\users\\imluc\\anaconda3\\lib\\site-packages (from gradio->-r requirements.txt (line 1)) (10.3.0)\n",
      "Requirement already satisfied: pydantic<2.12,>=2.0 in c:\\users\\imluc\\anaconda3\\lib\\site-packages (from gradio->-r requirements.txt (line 1)) (2.5.3)\n",
      "Requirement already satisfied: pydub in c:\\users\\imluc\\anaconda3\\lib\\site-packages (from gradio->-r requirements.txt (line 1)) (0.25.1)\n",
      "Requirement already satisfied: python-multipart>=0.0.18 in c:\\users\\imluc\\anaconda3\\lib\\site-packages (from gradio->-r requirements.txt (line 1)) (0.0.20)\n",
      "Requirement already satisfied: pyyaml<7.0,>=5.0 in c:\\users\\imluc\\anaconda3\\lib\\site-packages (from gradio->-r requirements.txt (line 1)) (6.0.1)\n",
      "Requirement already satisfied: ruff>=0.9.3 in c:\\users\\imluc\\anaconda3\\lib\\site-packages (from gradio->-r requirements.txt (line 1)) (0.11.4)\n",
      "Requirement already satisfied: safehttpx<0.2.0,>=0.1.6 in c:\\users\\imluc\\anaconda3\\lib\\site-packages (from gradio->-r requirements.txt (line 1)) (0.1.6)\n",
      "Requirement already satisfied: semantic-version~=2.0 in c:\\users\\imluc\\anaconda3\\lib\\site-packages (from gradio->-r requirements.txt (line 1)) (2.10.0)\n",
      "Requirement already satisfied: starlette<1.0,>=0.40.0 in c:\\users\\imluc\\anaconda3\\lib\\site-packages (from gradio->-r requirements.txt (line 1)) (0.46.1)\n",
      "Requirement already satisfied: tomlkit<0.14.0,>=0.12.0 in c:\\users\\imluc\\anaconda3\\lib\\site-packages (from gradio->-r requirements.txt (line 1)) (0.13.2)\n",
      "Requirement already satisfied: typer<1.0,>=0.12 in c:\\users\\imluc\\anaconda3\\lib\\site-packages (from gradio->-r requirements.txt (line 1)) (0.15.2)\n",
      "Requirement already satisfied: typing-extensions~=4.0 in c:\\users\\imluc\\anaconda3\\lib\\site-packages (from gradio->-r requirements.txt (line 1)) (4.11.0)\n",
      "Requirement already satisfied: uvicorn>=0.14.0 in c:\\users\\imluc\\anaconda3\\lib\\site-packages (from gradio->-r requirements.txt (line 1)) (0.34.0)\n",
      "Requirement already satisfied: fsspec in c:\\users\\imluc\\anaconda3\\lib\\site-packages (from gradio-client==1.8.0->gradio->-r requirements.txt (line 1)) (2024.3.1)\n",
      "Requirement already satisfied: websockets<16.0,>=10.0 in c:\\users\\imluc\\anaconda3\\lib\\site-packages (from gradio-client==1.8.0->gradio->-r requirements.txt (line 1)) (15.0.1)\n",
      "Requirement already satisfied: tensorflow-intel==2.17.1 in c:\\users\\imluc\\anaconda3\\lib\\site-packages (from tensorflow->-r requirements.txt (line 2)) (2.17.1)\n",
      "Requirement already satisfied: absl-py>=1.0.0 in c:\\users\\imluc\\anaconda3\\lib\\site-packages (from tensorflow-intel==2.17.1->tensorflow->-r requirements.txt (line 2)) (2.1.0)\n",
      "Requirement already satisfied: astunparse>=1.6.0 in c:\\users\\imluc\\anaconda3\\lib\\site-packages (from tensorflow-intel==2.17.1->tensorflow->-r requirements.txt (line 2)) (1.6.3)\n",
      "Requirement already satisfied: flatbuffers>=24.3.25 in c:\\users\\imluc\\anaconda3\\lib\\site-packages (from tensorflow-intel==2.17.1->tensorflow->-r requirements.txt (line 2)) (24.3.25)\n",
      "Requirement already satisfied: gast!=0.5.0,!=0.5.1,!=0.5.2,>=0.2.1 in c:\\users\\imluc\\anaconda3\\lib\\site-packages (from tensorflow-intel==2.17.1->tensorflow->-r requirements.txt (line 2)) (0.6.0)\n",
      "Requirement already satisfied: google-pasta>=0.1.1 in c:\\users\\imluc\\anaconda3\\lib\\site-packages (from tensorflow-intel==2.17.1->tensorflow->-r requirements.txt (line 2)) (0.2.0)\n",
      "Requirement already satisfied: h5py>=3.10.0 in c:\\users\\imluc\\anaconda3\\lib\\site-packages (from tensorflow-intel==2.17.1->tensorflow->-r requirements.txt (line 2)) (3.11.0)\n",
      "Requirement already satisfied: libclang>=13.0.0 in c:\\users\\imluc\\anaconda3\\lib\\site-packages (from tensorflow-intel==2.17.1->tensorflow->-r requirements.txt (line 2)) (18.1.1)\n",
      "Requirement already satisfied: ml-dtypes<0.5.0,>=0.3.1 in c:\\users\\imluc\\anaconda3\\lib\\site-packages (from tensorflow-intel==2.17.1->tensorflow->-r requirements.txt (line 2)) (0.4.0)\n",
      "Requirement already satisfied: opt-einsum>=2.3.2 in c:\\users\\imluc\\anaconda3\\lib\\site-packages (from tensorflow-intel==2.17.1->tensorflow->-r requirements.txt (line 2)) (3.3.0)\n",
      "Requirement already satisfied: protobuf!=4.21.0,!=4.21.1,!=4.21.2,!=4.21.3,!=4.21.4,!=4.21.5,<5.0.0dev,>=3.20.3 in c:\\users\\imluc\\anaconda3\\lib\\site-packages (from tensorflow-intel==2.17.1->tensorflow->-r requirements.txt (line 2)) (3.20.3)\n",
      "Requirement already satisfied: requests<3,>=2.21.0 in c:\\users\\imluc\\anaconda3\\lib\\site-packages (from tensorflow-intel==2.17.1->tensorflow->-r requirements.txt (line 2)) (2.32.2)\n",
      "Requirement already satisfied: setuptools in c:\\users\\imluc\\anaconda3\\lib\\site-packages (from tensorflow-intel==2.17.1->tensorflow->-r requirements.txt (line 2)) (69.5.1)\n",
      "Requirement already satisfied: six>=1.12.0 in c:\\users\\imluc\\appdata\\roaming\\python\\python312\\site-packages (from tensorflow-intel==2.17.1->tensorflow->-r requirements.txt (line 2)) (1.16.0)\n",
      "Requirement already satisfied: termcolor>=1.1.0 in c:\\users\\imluc\\anaconda3\\lib\\site-packages (from tensorflow-intel==2.17.1->tensorflow->-r requirements.txt (line 2)) (2.4.0)\n",
      "Requirement already satisfied: wrapt>=1.11.0 in c:\\users\\imluc\\anaconda3\\lib\\site-packages (from tensorflow-intel==2.17.1->tensorflow->-r requirements.txt (line 2)) (1.14.1)\n",
      "Requirement already satisfied: grpcio<2.0,>=1.24.3 in c:\\users\\imluc\\anaconda3\\lib\\site-packages (from tensorflow-intel==2.17.1->tensorflow->-r requirements.txt (line 2)) (1.64.1)\n",
      "Requirement already satisfied: tensorboard<2.18,>=2.17 in c:\\users\\imluc\\anaconda3\\lib\\site-packages (from tensorflow-intel==2.17.1->tensorflow->-r requirements.txt (line 2)) (2.17.0)\n",
      "Requirement already satisfied: rich in c:\\users\\imluc\\anaconda3\\lib\\site-packages (from keras->-r requirements.txt (line 3)) (13.3.5)\n",
      "Requirement already satisfied: namex in c:\\users\\imluc\\anaconda3\\lib\\site-packages (from keras->-r requirements.txt (line 3)) (0.0.8)\n",
      "Requirement already satisfied: optree in c:\\users\\imluc\\anaconda3\\lib\\site-packages (from keras->-r requirements.txt (line 3)) (0.12.1)\n",
      "Requirement already satisfied: python-dateutil>=2.8.2 in c:\\users\\imluc\\appdata\\roaming\\python\\python312\\site-packages (from pandas->-r requirements.txt (line 6)) (2.9.0.post0)\n",
      "Requirement already satisfied: pytz>=2020.1 in c:\\users\\imluc\\anaconda3\\lib\\site-packages (from pandas->-r requirements.txt (line 6)) (2024.1)\n",
      "Requirement already satisfied: tzdata>=2022.7 in c:\\users\\imluc\\anaconda3\\lib\\site-packages (from pandas->-r requirements.txt (line 6)) (2023.3)\n",
      "Requirement already satisfied: contourpy>=1.0.1 in c:\\users\\imluc\\anaconda3\\lib\\site-packages (from matplotlib->-r requirements.txt (line 7)) (1.2.0)\n",
      "Requirement already satisfied: cycler>=0.10 in c:\\users\\imluc\\anaconda3\\lib\\site-packages (from matplotlib->-r requirements.txt (line 7)) (0.11.0)\n",
      "Requirement already satisfied: fonttools>=4.22.0 in c:\\users\\imluc\\anaconda3\\lib\\site-packages (from matplotlib->-r requirements.txt (line 7)) (4.51.0)\n",
      "Requirement already satisfied: kiwisolver>=1.3.1 in c:\\users\\imluc\\anaconda3\\lib\\site-packages (from matplotlib->-r requirements.txt (line 7)) (1.4.4)\n",
      "Requirement already satisfied: pyparsing>=2.3.1 in c:\\users\\imluc\\anaconda3\\lib\\site-packages (from matplotlib->-r requirements.txt (line 7)) (3.0.9)\n",
      "Requirement already satisfied: colorama in c:\\users\\imluc\\appdata\\roaming\\python\\python312\\site-packages (from tqdm->-r requirements.txt (line 8)) (0.4.6)\n",
      "Requirement already satisfied: scipy>=1.6.0 in c:\\users\\imluc\\anaconda3\\lib\\site-packages (from scikit-learn->-r requirements.txt (line 9)) (1.13.1)\n",
      "Requirement already satisfied: joblib>=1.2.0 in c:\\users\\imluc\\anaconda3\\lib\\site-packages (from scikit-learn->-r requirements.txt (line 9)) (1.4.2)\n",
      "Requirement already satisfied: threadpoolctl>=2.0.0 in c:\\users\\imluc\\anaconda3\\lib\\site-packages (from scikit-learn->-r requirements.txt (line 9)) (2.2.0)\n",
      "Requirement already satisfied: idna>=2.8 in c:\\users\\imluc\\anaconda3\\lib\\site-packages (from anyio<5.0,>=3.0->gradio->-r requirements.txt (line 1)) (3.7)\n",
      "Requirement already satisfied: sniffio>=1.1 in c:\\users\\imluc\\anaconda3\\lib\\site-packages (from anyio<5.0,>=3.0->gradio->-r requirements.txt (line 1)) (1.3.0)\n",
      "Requirement already satisfied: certifi in c:\\users\\imluc\\anaconda3\\lib\\site-packages (from httpx>=0.24.1->gradio->-r requirements.txt (line 1)) (2024.6.2)\n",
      "Requirement already satisfied: httpcore==1.* in c:\\users\\imluc\\anaconda3\\lib\\site-packages (from httpx>=0.24.1->gradio->-r requirements.txt (line 1)) (1.0.7)\n",
      "Requirement already satisfied: h11<0.15,>=0.13 in c:\\users\\imluc\\anaconda3\\lib\\site-packages (from httpcore==1.*->httpx>=0.24.1->gradio->-r requirements.txt (line 1)) (0.14.0)\n",
      "Requirement already satisfied: filelock in c:\\users\\imluc\\anaconda3\\lib\\site-packages (from huggingface-hub>=0.28.1->gradio->-r requirements.txt (line 1)) (3.13.1)\n",
      "Requirement already satisfied: annotated-types>=0.4.0 in c:\\users\\imluc\\anaconda3\\lib\\site-packages (from pydantic<2.12,>=2.0->gradio->-r requirements.txt (line 1)) (0.6.0)\n",
      "Requirement already satisfied: pydantic-core==2.14.6 in c:\\users\\imluc\\anaconda3\\lib\\site-packages (from pydantic<2.12,>=2.0->gradio->-r requirements.txt (line 1)) (2.14.6)\n",
      "Requirement already satisfied: click>=8.0.0 in c:\\users\\imluc\\anaconda3\\lib\\site-packages (from typer<1.0,>=0.12->gradio->-r requirements.txt (line 1)) (8.1.7)\n",
      "Requirement already satisfied: shellingham>=1.3.0 in c:\\users\\imluc\\anaconda3\\lib\\site-packages (from typer<1.0,>=0.12->gradio->-r requirements.txt (line 1)) (1.5.4)\n",
      "Requirement already satisfied: markdown-it-py<3.0.0,>=2.2.0 in c:\\users\\imluc\\anaconda3\\lib\\site-packages (from rich->keras->-r requirements.txt (line 3)) (2.2.0)\n",
      "Requirement already satisfied: pygments<3.0.0,>=2.13.0 in c:\\users\\imluc\\appdata\\roaming\\python\\python312\\site-packages (from rich->keras->-r requirements.txt (line 3)) (2.18.0)\n",
      "Requirement already satisfied: wheel<1.0,>=0.23.0 in c:\\users\\imluc\\anaconda3\\lib\\site-packages (from astunparse>=1.6.0->tensorflow-intel==2.17.1->tensorflow->-r requirements.txt (line 2)) (0.43.0)\n",
      "Requirement already satisfied: mdurl~=0.1 in c:\\users\\imluc\\anaconda3\\lib\\site-packages (from markdown-it-py<3.0.0,>=2.2.0->rich->keras->-r requirements.txt (line 3)) (0.1.0)\n",
      "Requirement already satisfied: charset-normalizer<4,>=2 in c:\\users\\imluc\\anaconda3\\lib\\site-packages (from requests<3,>=2.21.0->tensorflow-intel==2.17.1->tensorflow->-r requirements.txt (line 2)) (2.0.4)\n",
      "Requirement already satisfied: urllib3<3,>=1.21.1 in c:\\users\\imluc\\anaconda3\\lib\\site-packages (from requests<3,>=2.21.0->tensorflow-intel==2.17.1->tensorflow->-r requirements.txt (line 2)) (2.2.2)\n",
      "Requirement already satisfied: markdown>=2.6.8 in c:\\users\\imluc\\anaconda3\\lib\\site-packages (from tensorboard<2.18,>=2.17->tensorflow-intel==2.17.1->tensorflow->-r requirements.txt (line 2)) (3.4.1)\n",
      "Requirement already satisfied: tensorboard-data-server<0.8.0,>=0.7.0 in c:\\users\\imluc\\anaconda3\\lib\\site-packages (from tensorboard<2.18,>=2.17->tensorflow-intel==2.17.1->tensorflow->-r requirements.txt (line 2)) (0.7.2)\n",
      "Requirement already satisfied: werkzeug>=1.0.1 in c:\\users\\imluc\\anaconda3\\lib\\site-packages (from tensorboard<2.18,>=2.17->tensorflow-intel==2.17.1->tensorflow->-r requirements.txt (line 2)) (3.0.3)\n",
      "Downloading Keras_Preprocessing-1.1.2-py2.py3-none-any.whl (42 kB)\n",
      "   ---------------------------------------- 0.0/42.6 kB ? eta -:--:--\n",
      "   ------------------- -------------------- 20.5/42.6 kB 330.3 kB/s eta 0:00:01\n",
      "   ---------------------------------------- 42.6/42.6 kB 521.6 kB/s eta 0:00:00\n",
      "Installing collected packages: keras_preprocessing\n",
      "Successfully installed keras_preprocessing-1.1.2\n",
      "Note: you may need to restart the kernel to use updated packages.\n"
     ]
    }
   ],
   "source": [
    "pip install -r requirements.txt"
   ]
  },
  {
   "cell_type": "code",
   "execution_count": 5,
   "id": "7cc2a9b5",
   "metadata": {},
   "outputs": [],
   "source": [
    "from keras.utils import to_categorical\n",
    "from keras_preprocessing.image import load_img\n",
    "from keras.models import Sequential\n",
    "from keras.layers import Dense, Conv2D, Dropout, Flatten, MaxPooling2D\n",
    "import os\n",
    "import pandas as pd\n",
    "import numpy as np\n",
    "import matplotlib.pyplot as plt\n",
    "from tqdm.notebook import tqdm\n",
    "from sklearn.preprocessing import LabelEncoder"
   ]
  },
  {
   "cell_type": "markdown",
   "id": "5d6e2fc1",
   "metadata": {},
   "source": [
    "### Data Path"
   ]
  },
  {
   "cell_type": "code",
   "execution_count": null,
   "id": "f6a8cceb",
   "metadata": {},
   "outputs": [],
   "source": [
    "# Paths\n",
    "TRAIN_DIR = 'images/train' # train data\n",
    "TEST_DIR = 'images/test' # test/validation data"
   ]
  },
  {
   "cell_type": "code",
   "execution_count": 7,
   "id": "7a093792",
   "metadata": {},
   "outputs": [],
   "source": [
    "# Create dataframe with image paths and labels\n",
    "def createdataframe(dir):\n",
    "    image_paths, labels = [], []\n",
    "    for label in os.listdir(dir):\n",
    "        for imagename in os.listdir(os.path.join(dir, label)):\n",
    "            image_paths.append(os.path.join(dir, label, imagename))\n",
    "            labels.append(label)\n",
    "        print(label, \"completed\")\n",
    "    return image_paths, labels"
   ]
  },
  {
   "cell_type": "code",
   "execution_count": 9,
   "id": "714b6503",
   "metadata": {},
   "outputs": [
    {
     "name": "stdout",
     "output_type": "stream",
     "text": [
      "angry completed\n",
      "disgust completed\n",
      "fear completed\n",
      "happy completed\n",
      "neutral completed\n",
      "sad completed\n",
      "surprise completed\n"
     ]
    }
   ],
   "source": [
    "train = pd.DataFrame()\n",
    "train['image'], train['label'] = createdataframe(TRAIN_DIR)\n"
   ]
  },
  {
   "cell_type": "code",
   "execution_count": 10,
   "id": "934010b7",
   "metadata": {},
   "outputs": [
    {
     "name": "stdout",
     "output_type": "stream",
     "text": [
      "angry completed\n",
      "disgust completed\n",
      "fear completed\n",
      "happy completed\n",
      "neutral completed\n",
      "sad completed\n",
      "surprise completed\n"
     ]
    }
   ],
   "source": [
    "test = pd.DataFrame()\n",
    "test['image'], test['label'] = createdataframe(TEST_DIR)"
   ]
  },
  {
   "cell_type": "markdown",
   "id": "ff6a909f",
   "metadata": {},
   "source": [
    "### Image Preprocessing"
   ]
  },
  {
   "cell_type": "code",
   "execution_count": 11,
   "id": "dedc0e27",
   "metadata": {},
   "outputs": [
    {
     "data": {
      "application/vnd.jupyter.widget-view+json": {
       "model_id": "6b676248481c491c9c6002ae4cde28a6",
       "version_major": 2,
       "version_minor": 0
      },
      "text/plain": [
       "  0%|          | 0/28821 [00:00<?, ?it/s]"
      ]
     },
     "metadata": {},
     "output_type": "display_data"
    },
    {
     "name": "stderr",
     "output_type": "stream",
     "text": [
      "c:\\Users\\imluc\\anaconda3\\Lib\\site-packages\\keras_preprocessing\\image\\utils.py:107: UserWarning: grayscale is deprecated. Please use color_mode = \"grayscale\"\n",
      "  warnings.warn('grayscale is deprecated. Please use '\n"
     ]
    },
    {
     "data": {
      "application/vnd.jupyter.widget-view+json": {
       "model_id": "7006e0680f37423ca26a6b3878bb234e",
       "version_major": 2,
       "version_minor": 0
      },
      "text/plain": [
       "  0%|          | 0/7066 [00:00<?, ?it/s]"
      ]
     },
     "metadata": {},
     "output_type": "display_data"
    }
   ],
   "source": [
    "# Image preprocessing\n",
    "def extract_features(images):\n",
    "    features = []\n",
    "    for image in tqdm(images):\n",
    "        img = load_img(image, grayscale=True)\n",
    "        img = np.array(img)\n",
    "        features.append(img)\n",
    "    features = np.array(features).reshape(len(features), 48, 48, 1)\n",
    "    return features\n",
    "\n",
    "x_train = extract_features(train['image']) / 255.0\n",
    "x_test = extract_features(test['image']) / 255.0"
   ]
  },
  {
   "cell_type": "markdown",
   "id": "62053ff7",
   "metadata": {},
   "source": [
    "### Label Encoding"
   ]
  },
  {
   "cell_type": "code",
   "execution_count": 12,
   "id": "68ef48c8",
   "metadata": {},
   "outputs": [],
   "source": [
    "le = LabelEncoder()\n",
    "le.fit(train['label'])  # Fit on training labels\n",
    "y_train = to_categorical(le.transform(train['label']), num_classes=7)\n",
    "y_test = to_categorical(le.transform(test['label']), num_classes=7)"
   ]
  },
  {
   "cell_type": "markdown",
   "id": "16a30907",
   "metadata": {},
   "source": [
    "### CNN Model"
   ]
  },
  {
   "cell_type": "code",
   "execution_count": 13,
   "id": "261482e3",
   "metadata": {},
   "outputs": [
    {
     "name": "stderr",
     "output_type": "stream",
     "text": [
      "c:\\Users\\imluc\\anaconda3\\Lib\\site-packages\\keras\\src\\layers\\convolutional\\base_conv.py:107: UserWarning: Do not pass an `input_shape`/`input_dim` argument to a layer. When using Sequential models, prefer using an `Input(shape)` object as the first layer in the model instead.\n",
      "  super().__init__(activity_regularizer=activity_regularizer, **kwargs)\n"
     ]
    }
   ],
   "source": [
    "model = Sequential([\n",
    "    Conv2D(128, kernel_size=(3,3), activation='relu', input_shape=(48,48,1)),\n",
    "    MaxPooling2D(pool_size=(2,2)),\n",
    "    Dropout(0.4),\n",
    "\n",
    "    Conv2D(256, kernel_size=(3,3), activation='relu'),\n",
    "    MaxPooling2D(pool_size=(2,2)),\n",
    "    Dropout(0.4),\n",
    "\n",
    "    Conv2D(512, kernel_size=(3,3), activation='relu'),\n",
    "    MaxPooling2D(pool_size=(2,2)),\n",
    "    Dropout(0.4),\n",
    "\n",
    "    Conv2D(512, kernel_size=(3,3), activation='relu'),\n",
    "    MaxPooling2D(pool_size=(2,2)),\n",
    "    Dropout(0.4),\n",
    "\n",
    "    Flatten(),  # Converts 2D to 1D\n",
    "    Dense(512, activation='relu'),\n",
    "    Dropout(0.4),\n",
    "    Dense(256, activation='relu'),\n",
    "    Dropout(0.3),\n",
    "    Dense(7, activation='softmax')  # Output layer (7 emotions)\n",
    "])"
   ]
  },
  {
   "cell_type": "code",
   "execution_count": 14,
   "id": "45d74744",
   "metadata": {},
   "outputs": [],
   "source": [
    "model.compile(optimizer='adam', loss='categorical_crossentropy', metrics=['accuracy'])"
   ]
  },
  {
   "cell_type": "markdown",
   "id": "8c088e33",
   "metadata": {},
   "source": [
    "### Training & Plots"
   ]
  },
  {
   "cell_type": "code",
   "execution_count": 18,
   "id": "728b76cc",
   "metadata": {},
   "outputs": [
    {
     "name": "stdout",
     "output_type": "stream",
     "text": [
      "Epoch 1/100\n",
      "\u001b[1m226/226\u001b[0m \u001b[32m━━━━━━━━━━━━━━━━━━━━\u001b[0m\u001b[37m\u001b[0m \u001b[1m91s\u001b[0m 390ms/step - accuracy: 0.2367 - loss: 1.8369 - val_accuracy: 0.2627 - val_loss: 1.7936\n",
      "Epoch 2/100\n",
      "\u001b[1m226/226\u001b[0m \u001b[32m━━━━━━━━━━━━━━━━━━━━\u001b[0m\u001b[37m\u001b[0m \u001b[1m91s\u001b[0m 404ms/step - accuracy: 0.2478 - loss: 1.8074 - val_accuracy: 0.2930 - val_loss: 1.7171\n",
      "Epoch 3/100\n",
      "\u001b[1m226/226\u001b[0m \u001b[32m━━━━━━━━━━━━━━━━━━━━\u001b[0m\u001b[37m\u001b[0m \u001b[1m93s\u001b[0m 413ms/step - accuracy: 0.3006 - loss: 1.7157 - val_accuracy: 0.3888 - val_loss: 1.5535\n",
      "Epoch 4/100\n",
      "\u001b[1m226/226\u001b[0m \u001b[32m━━━━━━━━━━━━━━━━━━━━\u001b[0m\u001b[37m\u001b[0m \u001b[1m93s\u001b[0m 411ms/step - accuracy: 0.3616 - loss: 1.6054 - val_accuracy: 0.4581 - val_loss: 1.4248\n",
      "Epoch 5/100\n",
      "\u001b[1m226/226\u001b[0m \u001b[32m━━━━━━━━━━━━━━━━━━━━\u001b[0m\u001b[37m\u001b[0m \u001b[1m93s\u001b[0m 412ms/step - accuracy: 0.4214 - loss: 1.4854 - val_accuracy: 0.4917 - val_loss: 1.3449\n",
      "Epoch 6/100\n",
      "\u001b[1m226/226\u001b[0m \u001b[32m━━━━━━━━━━━━━━━━━━━━\u001b[0m\u001b[37m\u001b[0m \u001b[1m94s\u001b[0m 415ms/step - accuracy: 0.4466 - loss: 1.4282 - val_accuracy: 0.4935 - val_loss: 1.3253\n",
      "Epoch 7/100\n",
      "\u001b[1m226/226\u001b[0m \u001b[32m━━━━━━━━━━━━━━━━━━━━\u001b[0m\u001b[37m\u001b[0m \u001b[1m94s\u001b[0m 415ms/step - accuracy: 0.4691 - loss: 1.3855 - val_accuracy: 0.5071 - val_loss: 1.2797\n",
      "Epoch 8/100\n",
      "\u001b[1m226/226\u001b[0m \u001b[32m━━━━━━━━━━━━━━━━━━━━\u001b[0m\u001b[37m\u001b[0m \u001b[1m93s\u001b[0m 414ms/step - accuracy: 0.4858 - loss: 1.3570 - val_accuracy: 0.5280 - val_loss: 1.2277\n",
      "Epoch 9/100\n",
      "\u001b[1m226/226\u001b[0m \u001b[32m━━━━━━━━━━━━━━━━━━━━\u001b[0m\u001b[37m\u001b[0m \u001b[1m94s\u001b[0m 414ms/step - accuracy: 0.4947 - loss: 1.3259 - val_accuracy: 0.5279 - val_loss: 1.2220\n",
      "Epoch 10/100\n",
      "\u001b[1m226/226\u001b[0m \u001b[32m━━━━━━━━━━━━━━━━━━━━\u001b[0m\u001b[37m\u001b[0m \u001b[1m94s\u001b[0m 416ms/step - accuracy: 0.4970 - loss: 1.3142 - val_accuracy: 0.5456 - val_loss: 1.1971\n",
      "Epoch 11/100\n",
      "\u001b[1m226/226\u001b[0m \u001b[32m━━━━━━━━━━━━━━━━━━━━\u001b[0m\u001b[37m\u001b[0m \u001b[1m94s\u001b[0m 416ms/step - accuracy: 0.5094 - loss: 1.2878 - val_accuracy: 0.5495 - val_loss: 1.1860\n",
      "Epoch 12/100\n",
      "\u001b[1m226/226\u001b[0m \u001b[32m━━━━━━━━━━━━━━━━━━━━\u001b[0m\u001b[37m\u001b[0m \u001b[1m94s\u001b[0m 415ms/step - accuracy: 0.5203 - loss: 1.2518 - val_accuracy: 0.5492 - val_loss: 1.1714\n",
      "Epoch 13/100\n",
      "\u001b[1m226/226\u001b[0m \u001b[32m━━━━━━━━━━━━━━━━━━━━\u001b[0m\u001b[37m\u001b[0m \u001b[1m96s\u001b[0m 426ms/step - accuracy: 0.5198 - loss: 1.2550 - val_accuracy: 0.5470 - val_loss: 1.1954\n",
      "Epoch 14/100\n",
      "\u001b[1m226/226\u001b[0m \u001b[32m━━━━━━━━━━━━━━━━━━━━\u001b[0m\u001b[37m\u001b[0m \u001b[1m97s\u001b[0m 429ms/step - accuracy: 0.5333 - loss: 1.2314 - val_accuracy: 0.5566 - val_loss: 1.1551\n",
      "Epoch 15/100\n",
      "\u001b[1m226/226\u001b[0m \u001b[32m━━━━━━━━━━━━━━━━━━━━\u001b[0m\u001b[37m\u001b[0m \u001b[1m199s\u001b[0m 881ms/step - accuracy: 0.5318 - loss: 1.2207 - val_accuracy: 0.5669 - val_loss: 1.1334\n",
      "Epoch 16/100\n",
      "\u001b[1m226/226\u001b[0m \u001b[32m━━━━━━━━━━━━━━━━━━━━\u001b[0m\u001b[37m\u001b[0m \u001b[1m191s\u001b[0m 847ms/step - accuracy: 0.5369 - loss: 1.2182 - val_accuracy: 0.5727 - val_loss: 1.1313\n",
      "Epoch 17/100\n",
      "\u001b[1m226/226\u001b[0m \u001b[32m━━━━━━━━━━━━━━━━━━━━\u001b[0m\u001b[37m\u001b[0m \u001b[1m190s\u001b[0m 842ms/step - accuracy: 0.5441 - loss: 1.2016 - val_accuracy: 0.5672 - val_loss: 1.1337\n",
      "Epoch 18/100\n",
      "\u001b[1m226/226\u001b[0m \u001b[32m━━━━━━━━━━━━━━━━━━━━\u001b[0m\u001b[37m\u001b[0m \u001b[1m190s\u001b[0m 839ms/step - accuracy: 0.5456 - loss: 1.1854 - val_accuracy: 0.5733 - val_loss: 1.1103\n",
      "Epoch 19/100\n",
      "\u001b[1m226/226\u001b[0m \u001b[32m━━━━━━━━━━━━━━━━━━━━\u001b[0m\u001b[37m\u001b[0m \u001b[1m189s\u001b[0m 837ms/step - accuracy: 0.5548 - loss: 1.1660 - val_accuracy: 0.5784 - val_loss: 1.1210\n",
      "Epoch 20/100\n",
      "\u001b[1m226/226\u001b[0m \u001b[32m━━━━━━━━━━━━━━━━━━━━\u001b[0m\u001b[37m\u001b[0m \u001b[1m190s\u001b[0m 840ms/step - accuracy: 0.5557 - loss: 1.1680 - val_accuracy: 0.5855 - val_loss: 1.1125\n",
      "Epoch 21/100\n",
      "\u001b[1m226/226\u001b[0m \u001b[32m━━━━━━━━━━━━━━━━━━━━\u001b[0m\u001b[37m\u001b[0m \u001b[1m189s\u001b[0m 838ms/step - accuracy: 0.5486 - loss: 1.1806 - val_accuracy: 0.5819 - val_loss: 1.1021\n",
      "Epoch 22/100\n",
      "\u001b[1m226/226\u001b[0m \u001b[32m━━━━━━━━━━━━━━━━━━━━\u001b[0m\u001b[37m\u001b[0m \u001b[1m188s\u001b[0m 834ms/step - accuracy: 0.5660 - loss: 1.1492 - val_accuracy: 0.5875 - val_loss: 1.1059\n",
      "Epoch 23/100\n",
      "\u001b[1m226/226\u001b[0m \u001b[32m━━━━━━━━━━━━━━━━━━━━\u001b[0m\u001b[37m\u001b[0m \u001b[1m159s\u001b[0m 702ms/step - accuracy: 0.5708 - loss: 1.1395 - val_accuracy: 0.5876 - val_loss: 1.0958\n",
      "Epoch 24/100\n",
      "\u001b[1m226/226\u001b[0m \u001b[32m━━━━━━━━━━━━━━━━━━━━\u001b[0m\u001b[37m\u001b[0m \u001b[1m152s\u001b[0m 673ms/step - accuracy: 0.5688 - loss: 1.1268 - val_accuracy: 0.5901 - val_loss: 1.0908\n",
      "Epoch 25/100\n",
      "\u001b[1m226/226\u001b[0m \u001b[32m━━━━━━━━━━━━━━━━━━━━\u001b[0m\u001b[37m\u001b[0m \u001b[1m85s\u001b[0m 376ms/step - accuracy: 0.5640 - loss: 1.1315 - val_accuracy: 0.5863 - val_loss: 1.0911\n",
      "Epoch 26/100\n",
      "\u001b[1m226/226\u001b[0m \u001b[32m━━━━━━━━━━━━━━━━━━━━\u001b[0m\u001b[37m\u001b[0m \u001b[1m110s\u001b[0m 487ms/step - accuracy: 0.5711 - loss: 1.1259 - val_accuracy: 0.5954 - val_loss: 1.0826\n",
      "Epoch 27/100\n",
      "\u001b[1m226/226\u001b[0m \u001b[32m━━━━━━━━━━━━━━━━━━━━\u001b[0m\u001b[37m\u001b[0m \u001b[1m151s\u001b[0m 671ms/step - accuracy: 0.5756 - loss: 1.1043 - val_accuracy: 0.5938 - val_loss: 1.0874\n",
      "Epoch 28/100\n",
      "\u001b[1m226/226\u001b[0m \u001b[32m━━━━━━━━━━━━━━━━━━━━\u001b[0m\u001b[37m\u001b[0m \u001b[1m172s\u001b[0m 761ms/step - accuracy: 0.5802 - loss: 1.1022 - val_accuracy: 0.5904 - val_loss: 1.0900\n",
      "Epoch 29/100\n",
      "\u001b[1m226/226\u001b[0m \u001b[32m━━━━━━━━━━━━━━━━━━━━\u001b[0m\u001b[37m\u001b[0m \u001b[1m169s\u001b[0m 747ms/step - accuracy: 0.5879 - loss: 1.0881 - val_accuracy: 0.5882 - val_loss: 1.0811\n",
      "Epoch 30/100\n",
      "\u001b[1m226/226\u001b[0m \u001b[32m━━━━━━━━━━━━━━━━━━━━\u001b[0m\u001b[37m\u001b[0m \u001b[1m169s\u001b[0m 746ms/step - accuracy: 0.5842 - loss: 1.1009 - val_accuracy: 0.5992 - val_loss: 1.0728\n",
      "Epoch 31/100\n",
      "\u001b[1m226/226\u001b[0m \u001b[32m━━━━━━━━━━━━━━━━━━━━\u001b[0m\u001b[37m\u001b[0m \u001b[1m114s\u001b[0m 502ms/step - accuracy: 0.5884 - loss: 1.0829 - val_accuracy: 0.5978 - val_loss: 1.0681\n",
      "Epoch 32/100\n",
      "\u001b[1m226/226\u001b[0m \u001b[32m━━━━━━━━━━━━━━━━━━━━\u001b[0m\u001b[37m\u001b[0m \u001b[1m79s\u001b[0m 348ms/step - accuracy: 0.5881 - loss: 1.0852 - val_accuracy: 0.6015 - val_loss: 1.0644\n",
      "Epoch 33/100\n",
      "\u001b[1m226/226\u001b[0m \u001b[32m━━━━━━━━━━━━━━━━━━━━\u001b[0m\u001b[37m\u001b[0m \u001b[1m79s\u001b[0m 351ms/step - accuracy: 0.6047 - loss: 1.0597 - val_accuracy: 0.6057 - val_loss: 1.0626\n",
      "Epoch 34/100\n",
      "\u001b[1m226/226\u001b[0m \u001b[32m━━━━━━━━━━━━━━━━━━━━\u001b[0m\u001b[37m\u001b[0m \u001b[1m81s\u001b[0m 357ms/step - accuracy: 0.6010 - loss: 1.0616 - val_accuracy: 0.5955 - val_loss: 1.0654\n",
      "Epoch 35/100\n",
      "\u001b[1m226/226\u001b[0m \u001b[32m━━━━━━━━━━━━━━━━━━━━\u001b[0m\u001b[37m\u001b[0m \u001b[1m93s\u001b[0m 411ms/step - accuracy: 0.6005 - loss: 1.0548 - val_accuracy: 0.6013 - val_loss: 1.0633\n",
      "Epoch 36/100\n",
      "\u001b[1m226/226\u001b[0m \u001b[32m━━━━━━━━━━━━━━━━━━━━\u001b[0m\u001b[37m\u001b[0m \u001b[1m99s\u001b[0m 439ms/step - accuracy: 0.6028 - loss: 1.0358 - val_accuracy: 0.5982 - val_loss: 1.0671\n",
      "Epoch 37/100\n",
      "\u001b[1m226/226\u001b[0m \u001b[32m━━━━━━━━━━━━━━━━━━━━\u001b[0m\u001b[37m\u001b[0m \u001b[1m103s\u001b[0m 455ms/step - accuracy: 0.6038 - loss: 1.0460 - val_accuracy: 0.6076 - val_loss: 1.0508\n",
      "Epoch 38/100\n",
      "\u001b[1m226/226\u001b[0m \u001b[32m━━━━━━━━━━━━━━━━━━━━\u001b[0m\u001b[37m\u001b[0m \u001b[1m106s\u001b[0m 469ms/step - accuracy: 0.6010 - loss: 1.0460 - val_accuracy: 0.6064 - val_loss: 1.0508\n",
      "Epoch 39/100\n",
      "\u001b[1m226/226\u001b[0m \u001b[32m━━━━━━━━━━━━━━━━━━━━\u001b[0m\u001b[37m\u001b[0m \u001b[1m107s\u001b[0m 473ms/step - accuracy: 0.6155 - loss: 1.0193 - val_accuracy: 0.6076 - val_loss: 1.0532\n",
      "Epoch 40/100\n",
      "\u001b[1m226/226\u001b[0m \u001b[32m━━━━━━━━━━━━━━━━━━━━\u001b[0m\u001b[37m\u001b[0m \u001b[1m108s\u001b[0m 477ms/step - accuracy: 0.6252 - loss: 1.0078 - val_accuracy: 0.6097 - val_loss: 1.0561\n",
      "Epoch 41/100\n",
      "\u001b[1m226/226\u001b[0m \u001b[32m━━━━━━━━━━━━━━━━━━━━\u001b[0m\u001b[37m\u001b[0m \u001b[1m155s\u001b[0m 689ms/step - accuracy: 0.6109 - loss: 1.0268 - val_accuracy: 0.6093 - val_loss: 1.0497\n",
      "Epoch 42/100\n",
      "\u001b[1m226/226\u001b[0m \u001b[32m━━━━━━━━━━━━━━━━━━━━\u001b[0m\u001b[37m\u001b[0m \u001b[1m214s\u001b[0m 945ms/step - accuracy: 0.6187 - loss: 1.0023 - val_accuracy: 0.6098 - val_loss: 1.0523\n",
      "Epoch 43/100\n",
      "\u001b[1m226/226\u001b[0m \u001b[32m━━━━━━━━━━━━━━━━━━━━\u001b[0m\u001b[37m\u001b[0m \u001b[1m221s\u001b[0m 976ms/step - accuracy: 0.6228 - loss: 1.0113 - val_accuracy: 0.6064 - val_loss: 1.0645\n",
      "Epoch 44/100\n",
      "\u001b[1m226/226\u001b[0m \u001b[32m━━━━━━━━━━━━━━━━━━━━\u001b[0m\u001b[37m\u001b[0m \u001b[1m218s\u001b[0m 964ms/step - accuracy: 0.6210 - loss: 1.0035 - val_accuracy: 0.6102 - val_loss: 1.0419\n",
      "Epoch 45/100\n",
      "\u001b[1m226/226\u001b[0m \u001b[32m━━━━━━━━━━━━━━━━━━━━\u001b[0m\u001b[37m\u001b[0m \u001b[1m197s\u001b[0m 873ms/step - accuracy: 0.6260 - loss: 0.9837 - val_accuracy: 0.6100 - val_loss: 1.0409\n",
      "Epoch 46/100\n",
      "\u001b[1m226/226\u001b[0m \u001b[32m━━━━━━━━━━━━━━━━━━━━\u001b[0m\u001b[37m\u001b[0m \u001b[1m195s\u001b[0m 863ms/step - accuracy: 0.6242 - loss: 0.9977 - val_accuracy: 0.6124 - val_loss: 1.0524\n",
      "Epoch 47/100\n",
      "\u001b[1m226/226\u001b[0m \u001b[32m━━━━━━━━━━━━━━━━━━━━\u001b[0m\u001b[37m\u001b[0m \u001b[1m202s\u001b[0m 893ms/step - accuracy: 0.6268 - loss: 0.9955 - val_accuracy: 0.6036 - val_loss: 1.0588\n",
      "Epoch 48/100\n",
      "\u001b[1m226/226\u001b[0m \u001b[32m━━━━━━━━━━━━━━━━━━━━\u001b[0m\u001b[37m\u001b[0m \u001b[1m193s\u001b[0m 856ms/step - accuracy: 0.6335 - loss: 0.9820 - val_accuracy: 0.6100 - val_loss: 1.0392\n",
      "Epoch 49/100\n",
      "\u001b[1m226/226\u001b[0m \u001b[32m━━━━━━━━━━━━━━━━━━━━\u001b[0m\u001b[37m\u001b[0m \u001b[1m181s\u001b[0m 802ms/step - accuracy: 0.6363 - loss: 0.9676 - val_accuracy: 0.6125 - val_loss: 1.0414\n",
      "Epoch 50/100\n",
      "\u001b[1m226/226\u001b[0m \u001b[32m━━━━━━━━━━━━━━━━━━━━\u001b[0m\u001b[37m\u001b[0m \u001b[1m118s\u001b[0m 519ms/step - accuracy: 0.6366 - loss: 0.9655 - val_accuracy: 0.6105 - val_loss: 1.0458\n",
      "Epoch 51/100\n",
      "\u001b[1m226/226\u001b[0m \u001b[32m━━━━━━━━━━━━━━━━━━━━\u001b[0m\u001b[37m\u001b[0m \u001b[1m117s\u001b[0m 515ms/step - accuracy: 0.6312 - loss: 0.9734 - val_accuracy: 0.6175 - val_loss: 1.0401\n",
      "Epoch 52/100\n",
      "\u001b[1m226/226\u001b[0m \u001b[32m━━━━━━━━━━━━━━━━━━━━\u001b[0m\u001b[37m\u001b[0m \u001b[1m109s\u001b[0m 482ms/step - accuracy: 0.6446 - loss: 0.9546 - val_accuracy: 0.6145 - val_loss: 1.0374\n",
      "Epoch 53/100\n",
      "\u001b[1m226/226\u001b[0m \u001b[32m━━━━━━━━━━━━━━━━━━━━\u001b[0m\u001b[37m\u001b[0m \u001b[1m166s\u001b[0m 733ms/step - accuracy: 0.6390 - loss: 0.9532 - val_accuracy: 0.6231 - val_loss: 1.0287\n",
      "Epoch 54/100\n",
      "\u001b[1m226/226\u001b[0m \u001b[32m━━━━━━━━━━━━━━━━━━━━\u001b[0m\u001b[37m\u001b[0m \u001b[1m164s\u001b[0m 727ms/step - accuracy: 0.6452 - loss: 0.9454 - val_accuracy: 0.6224 - val_loss: 1.0405\n",
      "Epoch 55/100\n",
      "\u001b[1m226/226\u001b[0m \u001b[32m━━━━━━━━━━━━━━━━━━━━\u001b[0m\u001b[37m\u001b[0m \u001b[1m144s\u001b[0m 638ms/step - accuracy: 0.6497 - loss: 0.9340 - val_accuracy: 0.6179 - val_loss: 1.0397\n",
      "Epoch 56/100\n",
      "\u001b[1m226/226\u001b[0m \u001b[32m━━━━━━━━━━━━━━━━━━━━\u001b[0m\u001b[37m\u001b[0m \u001b[1m168s\u001b[0m 742ms/step - accuracy: 0.6481 - loss: 0.9398 - val_accuracy: 0.6207 - val_loss: 1.0414\n",
      "Epoch 57/100\n",
      "\u001b[1m226/226\u001b[0m \u001b[32m━━━━━━━━━━━━━━━━━━━━\u001b[0m\u001b[37m\u001b[0m \u001b[1m147s\u001b[0m 652ms/step - accuracy: 0.6519 - loss: 0.9337 - val_accuracy: 0.6132 - val_loss: 1.0362\n",
      "Epoch 58/100\n",
      "\u001b[1m226/226\u001b[0m \u001b[32m━━━━━━━━━━━━━━━━━━━━\u001b[0m\u001b[37m\u001b[0m \u001b[1m79s\u001b[0m 349ms/step - accuracy: 0.6454 - loss: 0.9363 - val_accuracy: 0.6132 - val_loss: 1.0535\n",
      "Epoch 59/100\n",
      "\u001b[1m226/226\u001b[0m \u001b[32m━━━━━━━━━━━━━━━━━━━━\u001b[0m\u001b[37m\u001b[0m \u001b[1m117s\u001b[0m 518ms/step - accuracy: 0.6526 - loss: 0.9332 - val_accuracy: 0.6294 - val_loss: 1.0263\n",
      "Epoch 60/100\n",
      "\u001b[1m226/226\u001b[0m \u001b[32m━━━━━━━━━━━━━━━━━━━━\u001b[0m\u001b[37m\u001b[0m \u001b[1m167s\u001b[0m 738ms/step - accuracy: 0.6578 - loss: 0.9149 - val_accuracy: 0.6200 - val_loss: 1.0430\n",
      "Epoch 61/100\n",
      "\u001b[1m226/226\u001b[0m \u001b[32m━━━━━━━━━━━━━━━━━━━━\u001b[0m\u001b[37m\u001b[0m \u001b[1m154s\u001b[0m 680ms/step - accuracy: 0.6649 - loss: 0.9099 - val_accuracy: 0.6241 - val_loss: 1.0336\n",
      "Epoch 62/100\n",
      "\u001b[1m226/226\u001b[0m \u001b[32m━━━━━━━━━━━━━━━━━━━━\u001b[0m\u001b[37m\u001b[0m \u001b[1m165s\u001b[0m 732ms/step - accuracy: 0.6612 - loss: 0.9091 - val_accuracy: 0.6231 - val_loss: 1.0388\n",
      "Epoch 63/100\n",
      "\u001b[1m226/226\u001b[0m \u001b[32m━━━━━━━━━━━━━━━━━━━━\u001b[0m\u001b[37m\u001b[0m \u001b[1m167s\u001b[0m 738ms/step - accuracy: 0.6598 - loss: 0.9177 - val_accuracy: 0.6200 - val_loss: 1.0394\n",
      "Epoch 64/100\n",
      "\u001b[1m226/226\u001b[0m \u001b[32m━━━━━━━━━━━━━━━━━━━━\u001b[0m\u001b[37m\u001b[0m \u001b[1m166s\u001b[0m 735ms/step - accuracy: 0.6675 - loss: 0.8870 - val_accuracy: 0.6260 - val_loss: 1.0224\n",
      "Epoch 65/100\n",
      "\u001b[1m226/226\u001b[0m \u001b[32m━━━━━━━━━━━━━━━━━━━━\u001b[0m\u001b[37m\u001b[0m \u001b[1m166s\u001b[0m 734ms/step - accuracy: 0.6565 - loss: 0.9090 - val_accuracy: 0.6204 - val_loss: 1.0336\n",
      "Epoch 66/100\n",
      "\u001b[1m226/226\u001b[0m \u001b[32m━━━━━━━━━━━━━━━━━━━━\u001b[0m\u001b[37m\u001b[0m \u001b[1m80s\u001b[0m 352ms/step - accuracy: 0.6702 - loss: 0.8907 - val_accuracy: 0.6223 - val_loss: 1.0375\n",
      "Epoch 67/100\n",
      "\u001b[1m226/226\u001b[0m \u001b[32m━━━━━━━━━━━━━━━━━━━━\u001b[0m\u001b[37m\u001b[0m \u001b[1m116s\u001b[0m 515ms/step - accuracy: 0.6701 - loss: 0.8948 - val_accuracy: 0.6219 - val_loss: 1.0302\n",
      "Epoch 68/100\n",
      "\u001b[1m226/226\u001b[0m \u001b[32m━━━━━━━━━━━━━━━━━━━━\u001b[0m\u001b[37m\u001b[0m \u001b[1m173s\u001b[0m 765ms/step - accuracy: 0.6685 - loss: 0.8787 - val_accuracy: 0.6240 - val_loss: 1.0290\n",
      "Epoch 69/100\n",
      "\u001b[1m226/226\u001b[0m \u001b[32m━━━━━━━━━━━━━━━━━━━━\u001b[0m\u001b[37m\u001b[0m \u001b[1m170s\u001b[0m 751ms/step - accuracy: 0.6685 - loss: 0.8912 - val_accuracy: 0.6203 - val_loss: 1.0312\n",
      "Epoch 70/100\n",
      "\u001b[1m226/226\u001b[0m \u001b[32m━━━━━━━━━━━━━━━━━━━━\u001b[0m\u001b[37m\u001b[0m \u001b[1m171s\u001b[0m 756ms/step - accuracy: 0.6740 - loss: 0.8758 - val_accuracy: 0.6243 - val_loss: 1.0373\n",
      "Epoch 71/100\n",
      "\u001b[1m226/226\u001b[0m \u001b[32m━━━━━━━━━━━━━━━━━━━━\u001b[0m\u001b[37m\u001b[0m \u001b[1m168s\u001b[0m 742ms/step - accuracy: 0.6808 - loss: 0.8630 - val_accuracy: 0.6193 - val_loss: 1.0464\n",
      "Epoch 72/100\n",
      "\u001b[1m226/226\u001b[0m \u001b[32m━━━━━━━━━━━━━━━━━━━━\u001b[0m\u001b[37m\u001b[0m \u001b[1m201s\u001b[0m 738ms/step - accuracy: 0.6816 - loss: 0.8666 - val_accuracy: 0.6303 - val_loss: 1.0245\n",
      "Epoch 73/100\n",
      "\u001b[1m226/226\u001b[0m \u001b[32m━━━━━━━━━━━━━━━━━━━━\u001b[0m\u001b[37m\u001b[0m \u001b[1m112s\u001b[0m 493ms/step - accuracy: 0.6815 - loss: 0.8582 - val_accuracy: 0.6177 - val_loss: 1.0429\n",
      "Epoch 74/100\n",
      "\u001b[1m226/226\u001b[0m \u001b[32m━━━━━━━━━━━━━━━━━━━━\u001b[0m\u001b[37m\u001b[0m \u001b[1m98s\u001b[0m 432ms/step - accuracy: 0.6840 - loss: 0.8549 - val_accuracy: 0.6235 - val_loss: 1.0288\n",
      "Epoch 75/100\n",
      "\u001b[1m226/226\u001b[0m \u001b[32m━━━━━━━━━━━━━━━━━━━━\u001b[0m\u001b[37m\u001b[0m \u001b[1m103s\u001b[0m 456ms/step - accuracy: 0.6860 - loss: 0.8547 - val_accuracy: 0.6303 - val_loss: 1.0301\n",
      "Epoch 76/100\n",
      "\u001b[1m226/226\u001b[0m \u001b[32m━━━━━━━━━━━━━━━━━━━━\u001b[0m\u001b[37m\u001b[0m \u001b[1m106s\u001b[0m 467ms/step - accuracy: 0.6854 - loss: 0.8530 - val_accuracy: 0.6271 - val_loss: 1.0302\n",
      "Epoch 77/100\n",
      "\u001b[1m226/226\u001b[0m \u001b[32m━━━━━━━━━━━━━━━━━━━━\u001b[0m\u001b[37m\u001b[0m \u001b[1m108s\u001b[0m 478ms/step - accuracy: 0.6810 - loss: 0.8541 - val_accuracy: 0.6226 - val_loss: 1.0328\n",
      "Epoch 78/100\n",
      "\u001b[1m226/226\u001b[0m \u001b[32m━━━━━━━━━━━━━━━━━━━━\u001b[0m\u001b[37m\u001b[0m \u001b[1m109s\u001b[0m 483ms/step - accuracy: 0.6855 - loss: 0.8377 - val_accuracy: 0.6221 - val_loss: 1.0373\n",
      "Epoch 79/100\n",
      "\u001b[1m226/226\u001b[0m \u001b[32m━━━━━━━━━━━━━━━━━━━━\u001b[0m\u001b[37m\u001b[0m \u001b[1m111s\u001b[0m 492ms/step - accuracy: 0.6911 - loss: 0.8308 - val_accuracy: 0.6271 - val_loss: 1.0293\n",
      "Epoch 80/100\n",
      "\u001b[1m226/226\u001b[0m \u001b[32m━━━━━━━━━━━━━━━━━━━━\u001b[0m\u001b[37m\u001b[0m \u001b[1m111s\u001b[0m 492ms/step - accuracy: 0.6939 - loss: 0.8359 - val_accuracy: 0.6237 - val_loss: 1.0364\n",
      "Epoch 81/100\n",
      "\u001b[1m226/226\u001b[0m \u001b[32m━━━━━━━━━━━━━━━━━━━━\u001b[0m\u001b[37m\u001b[0m \u001b[1m113s\u001b[0m 498ms/step - accuracy: 0.6874 - loss: 0.8419 - val_accuracy: 0.6237 - val_loss: 1.0405\n",
      "Epoch 82/100\n",
      "\u001b[1m226/226\u001b[0m \u001b[32m━━━━━━━━━━━━━━━━━━━━\u001b[0m\u001b[37m\u001b[0m \u001b[1m112s\u001b[0m 497ms/step - accuracy: 0.6969 - loss: 0.8143 - val_accuracy: 0.6301 - val_loss: 1.0326\n",
      "Epoch 83/100\n",
      "\u001b[1m226/226\u001b[0m \u001b[32m━━━━━━━━━━━━━━━━━━━━\u001b[0m\u001b[37m\u001b[0m \u001b[1m113s\u001b[0m 502ms/step - accuracy: 0.6955 - loss: 0.8213 - val_accuracy: 0.6284 - val_loss: 1.0294\n",
      "Epoch 84/100\n",
      "\u001b[1m226/226\u001b[0m \u001b[32m━━━━━━━━━━━━━━━━━━━━\u001b[0m\u001b[37m\u001b[0m \u001b[1m113s\u001b[0m 501ms/step - accuracy: 0.6993 - loss: 0.8158 - val_accuracy: 0.6282 - val_loss: 1.0310\n",
      "Epoch 85/100\n",
      "\u001b[1m226/226\u001b[0m \u001b[32m━━━━━━━━━━━━━━━━━━━━\u001b[0m\u001b[37m\u001b[0m \u001b[1m114s\u001b[0m 504ms/step - accuracy: 0.7031 - loss: 0.8069 - val_accuracy: 0.6248 - val_loss: 1.0386\n",
      "Epoch 86/100\n",
      "\u001b[1m226/226\u001b[0m \u001b[32m━━━━━━━━━━━━━━━━━━━━\u001b[0m\u001b[37m\u001b[0m \u001b[1m115s\u001b[0m 507ms/step - accuracy: 0.7027 - loss: 0.8135 - val_accuracy: 0.6281 - val_loss: 1.0275\n",
      "Epoch 87/100\n",
      "\u001b[1m226/226\u001b[0m \u001b[32m━━━━━━━━━━━━━━━━━━━━\u001b[0m\u001b[37m\u001b[0m \u001b[1m115s\u001b[0m 508ms/step - accuracy: 0.6998 - loss: 0.8089 - val_accuracy: 0.6267 - val_loss: 1.0352\n",
      "Epoch 88/100\n",
      "\u001b[1m226/226\u001b[0m \u001b[32m━━━━━━━━━━━━━━━━━━━━\u001b[0m\u001b[37m\u001b[0m \u001b[1m115s\u001b[0m 507ms/step - accuracy: 0.7046 - loss: 0.8112 - val_accuracy: 0.6279 - val_loss: 1.0330\n",
      "Epoch 89/100\n",
      "\u001b[1m226/226\u001b[0m \u001b[32m━━━━━━━━━━━━━━━━━━━━\u001b[0m\u001b[37m\u001b[0m \u001b[1m116s\u001b[0m 512ms/step - accuracy: 0.7136 - loss: 0.7774 - val_accuracy: 0.6227 - val_loss: 1.0390\n",
      "Epoch 90/100\n",
      "\u001b[1m226/226\u001b[0m \u001b[32m━━━━━━━━━━━━━━━━━━━━\u001b[0m\u001b[37m\u001b[0m \u001b[1m115s\u001b[0m 511ms/step - accuracy: 0.7103 - loss: 0.7846 - val_accuracy: 0.6206 - val_loss: 1.0419\n",
      "Epoch 91/100\n",
      "\u001b[1m226/226\u001b[0m \u001b[32m━━━━━━━━━━━━━━━━━━━━\u001b[0m\u001b[37m\u001b[0m \u001b[1m115s\u001b[0m 508ms/step - accuracy: 0.7128 - loss: 0.7853 - val_accuracy: 0.6267 - val_loss: 1.0293\n",
      "Epoch 92/100\n",
      "\u001b[1m226/226\u001b[0m \u001b[32m━━━━━━━━━━━━━━━━━━━━\u001b[0m\u001b[37m\u001b[0m \u001b[1m115s\u001b[0m 509ms/step - accuracy: 0.7147 - loss: 0.7793 - val_accuracy: 0.6288 - val_loss: 1.0191\n",
      "Epoch 93/100\n",
      "\u001b[1m226/226\u001b[0m \u001b[32m━━━━━━━━━━━━━━━━━━━━\u001b[0m\u001b[37m\u001b[0m \u001b[1m115s\u001b[0m 510ms/step - accuracy: 0.7122 - loss: 0.7805 - val_accuracy: 0.6308 - val_loss: 1.0166\n",
      "Epoch 94/100\n",
      "\u001b[1m226/226\u001b[0m \u001b[32m━━━━━━━━━━━━━━━━━━━━\u001b[0m\u001b[37m\u001b[0m \u001b[1m115s\u001b[0m 511ms/step - accuracy: 0.7159 - loss: 0.7747 - val_accuracy: 0.6292 - val_loss: 1.0309\n",
      "Epoch 95/100\n",
      "\u001b[1m226/226\u001b[0m \u001b[32m━━━━━━━━━━━━━━━━━━━━\u001b[0m\u001b[37m\u001b[0m \u001b[1m113s\u001b[0m 499ms/step - accuracy: 0.7128 - loss: 0.7789 - val_accuracy: 0.6318 - val_loss: 1.0335\n",
      "Epoch 96/100\n",
      "\u001b[1m226/226\u001b[0m \u001b[32m━━━━━━━━━━━━━━━━━━━━\u001b[0m\u001b[37m\u001b[0m \u001b[1m84s\u001b[0m 369ms/step - accuracy: 0.7200 - loss: 0.7570 - val_accuracy: 0.6337 - val_loss: 1.0303\n",
      "Epoch 97/100\n",
      "\u001b[1m226/226\u001b[0m \u001b[32m━━━━━━━━━━━━━━━━━━━━\u001b[0m\u001b[37m\u001b[0m \u001b[1m81s\u001b[0m 358ms/step - accuracy: 0.7129 - loss: 0.7767 - val_accuracy: 0.6282 - val_loss: 1.0301\n",
      "Epoch 98/100\n",
      "\u001b[1m226/226\u001b[0m \u001b[32m━━━━━━━━━━━━━━━━━━━━\u001b[0m\u001b[37m\u001b[0m \u001b[1m80s\u001b[0m 355ms/step - accuracy: 0.7251 - loss: 0.7498 - val_accuracy: 0.6238 - val_loss: 1.0616\n",
      "Epoch 99/100\n",
      "\u001b[1m226/226\u001b[0m \u001b[32m━━━━━━━━━━━━━━━━━━━━\u001b[0m\u001b[37m\u001b[0m \u001b[1m80s\u001b[0m 353ms/step - accuracy: 0.7215 - loss: 0.7573 - val_accuracy: 0.6298 - val_loss: 1.0407\n",
      "Epoch 100/100\n",
      "\u001b[1m226/226\u001b[0m \u001b[32m━━━━━━━━━━━━━━━━━━━━\u001b[0m\u001b[37m\u001b[0m \u001b[1m80s\u001b[0m 352ms/step - accuracy: 0.7229 - loss: 0.7575 - val_accuracy: 0.6289 - val_loss: 1.0397\n"
     ]
    },
    {
     "data": {
      "image/png": "[encoded data removed]",
      "text/plain": [
       "<Figure size 1400x500 with 2 Axes>"
      ]
     },
     "metadata": {},
     "output_type": "display_data"
    }
   ],
   "source": [
    "plt.figure(figsize=(14, 5))\n",
    "\n",
    "history = model.fit(x_train, y_train, batch_size=128, epochs=100, validation_data=(x_test, y_test))\n",
    "\n",
    "# Accuracy\n",
    "plt.subplot(1, 2, 1)\n",
    "plt.plot(history.history['accuracy'], label='Training Accuracy', color='blue')\n",
    "plt.plot(history.history['val_accuracy'], label='Validation Accuracy', color='orange')\n",
    "plt.title('Model Accuracy')\n",
    "plt.xlabel('Epoch')\n",
    "plt.ylabel('Accuracy')\n",
    "plt.legend()\n",
    "\n",
    "# Loss\n",
    "plt.subplot(1, 2, 2)\n",
    "plt.plot(history.history['loss'], label='Training Loss', color='blue')\n",
    "plt.plot(history.history['val_loss'], label='Validation Loss', color='orange')\n",
    "plt.title('Model Loss')\n",
    "plt.xlabel('Epoch')\n",
    "plt.ylabel('Loss')\n",
    "plt.legend()\n",
    "\n",
    "plt.tight_layout()\n",
    "plt.show()"
   ]
  },
  {
   "cell_type": "markdown",
   "id": "70de7ba7",
   "metadata": {},
   "source": [
    "### Save Models"
   ]
  },
  {
   "cell_type": "code",
   "execution_count": 19,
   "id": "d06e01c5",
   "metadata": {},
   "outputs": [
    {
     "name": "stderr",
     "output_type": "stream",
     "text": [
      "WARNING:absl:You are saving your model as an HDF5 file via `model.save()` or `keras.saving.save_model(model)`. This file format is considered legacy. We recommend using instead the native Keras format, e.g. `model.save('my_model.keras')` or `keras.saving.save_model(model, 'my_model.keras')`. \n"
     ]
    }
   ],
   "source": [
    "model.save('emotiondetector.h5')  # Save weights + architecture\n",
    "with open(\"emotiondetector.json\", \"w\") as json_file:\n",
    "    json_file.write(model.to_json())  # Save just architecture (optional)"
   ]
  },
  {
   "cell_type": "code",
   "execution_count": null,
   "id": "4aab4ab6",
   "metadata": {},
   "outputs": [],
   "source": []
  }
 ],
 "metadata": {
  "kernelspec": {
   "display_name": "Python (GPU)",
   "language": "python",
   "name": "gpu_env"
  },
  "language_info": {
   "codemirror_mode": {
    "name": "ipython",
    "version": 3
   },
   "file_extension": ".py",
   "mimetype": "text/x-python",
   "name": "python",
   "nbconvert_exporter": "python",
   "pygments_lexer": "ipython3",
   "version": "3.12.4"
  }
 },
 "nbformat": 4,
 "nbformat_minor": 5
}
